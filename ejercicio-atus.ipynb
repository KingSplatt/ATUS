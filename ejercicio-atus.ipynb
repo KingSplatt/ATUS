{
 "cells": [
  {
   "cell_type": "code",
   "execution_count": 2,
   "id": "d6f50d65",
   "metadata": {
    "_cell_guid": "b1076dfc-b9ad-4769-8c92-a6c4dae69d19",
    "_uuid": "8f2839f25d086af736a60e9eeb907d3b93b6e0e5",
    "execution": {
     "iopub.execute_input": "2024-10-04T01:38:06.595361Z",
     "iopub.status.busy": "2024-10-04T01:38:06.594863Z",
     "iopub.status.idle": "2024-10-04T01:38:07.603424Z",
     "shell.execute_reply": "2024-10-04T01:38:07.602112Z"
    },
    "papermill": {
     "duration": 1.015555,
     "end_time": "2024-10-04T01:38:07.606085",
     "exception": false,
     "start_time": "2024-10-04T01:38:06.590530",
     "status": "completed"
    },
    "tags": []
   },
   "outputs": [],
   "source": [
    "# This Python 3 environment comes with many helpful analytics libraries installed\n",
    "# It is defined by the kaggle/python Docker image: https://github.com/kaggle/docker-python\n",
    "# For example, here's several helpful packages to load\n",
    "\n",
    "import numpy as np # linear algebra\n",
    "import pandas as pd # data processing, CSV file I/O (e.g. pd.read_csv)\n",
    "\n",
    "# Input data files are available in the read-only \"../input/\" directory\n",
    "# For example, running this (by clicking run or pressing Shift+Enter) will list all files under the input directory\n",
    "\n",
    "import os\n",
    "for dirname, _, filenames in os.walk('/kaggle/input'):\n",
    "    for filename in filenames:\n",
    "        print(os.path.join(dirname, filename))\n",
    "\n",
    "# You can write up to 20GB to the current directory (/kaggle/working/) that gets preserved as output when you create a version using \"Save & Run All\" \n",
    "# You can also write temporary files to /kaggle/temp/, but they won't be saved outside of the current session"
   ]
  },
  {
   "cell_type": "markdown",
   "id": "574e80b3",
   "metadata": {
    "papermill": {
     "duration": 0.001708,
     "end_time": "2024-10-04T01:38:07.610070",
     "exception": false,
     "start_time": "2024-10-04T01:38:07.608362",
     "status": "completed"
    },
    "tags": []
   },
   "source": [
    "## Probaremos si funciona el dataset"
   ]
  },
  {
   "cell_type": "code",
   "execution_count": 14,
   "id": "dc79406d",
   "metadata": {
    "execution": {
     "iopub.execute_input": "2024-10-04T01:38:07.616567Z",
     "iopub.status.busy": "2024-10-04T01:38:07.615266Z",
     "iopub.status.idle": "2024-10-04T01:38:07.649731Z",
     "shell.execute_reply": "2024-10-04T01:38:07.648254Z"
    },
    "papermill": {
     "duration": 0.040359,
     "end_time": "2024-10-04T01:38:07.652263",
     "exception": false,
     "start_time": "2024-10-04T01:38:07.611904",
     "status": "completed"
    },
    "tags": []
   },
   "outputs": [
    {
     "name": "stdout",
     "output_type": "stream",
     "text": [
      "           COBERTURA  ID_ENTIDAD  ID_MUNICIPIO  ANIO  MES  ID_HORA  ID_MINUTO  \\\n",
      "Municipal          1           1          2020     1    0        0          1   \n",
      "Municipal          1           1          2020     1    0        0          1   \n",
      "Municipal          1           1          2020     1    0       10          1   \n",
      "Municipal          1           1          2020     1    2        0          1   \n",
      "Municipal          1           1          2020     1    2       10          1   \n",
      "\n",
      "              ID_DIA                  DIASEMANA                      URBANA  \\\n",
      "Municipal  Miercoles  Accidente en intersección  Sin accidente en esta zona   \n",
      "Municipal  Miercoles  Accidente en intersección  Sin accidente en esta zona   \n",
      "Municipal  Miercoles  Accidente en intersección  Sin accidente en esta zona   \n",
      "Municipal  Miercoles  Accidente en intersección  Sin accidente en esta zona   \n",
      "Municipal  Miercoles  Accidente en intersección  Sin accidente en esta zona   \n",
      "\n",
      "           ... PEATMUERTO  PEATHERIDO  CICLMUERTO  CICLHERIDO  OTROMUERTO  \\\n",
      "Municipal  ...          0           0           0           0           0   \n",
      "Municipal  ...          0           0           0           0           0   \n",
      "Municipal  ...          0           0           0           0           0   \n",
      "Municipal  ...          0           0           0           0           0   \n",
      "Municipal  ...          0           0           0           0           0   \n",
      "\n",
      "           OTROHERIDO  NEMUERTO    NEHERIDO             CLASACC  ESTATUS  \n",
      "Municipal           0         0  Sólo daños  Cifras Definitivas      NaN  \n",
      "Municipal           0         0  Sólo daños  Cifras Definitivas      NaN  \n",
      "Municipal           0         0  Sólo daños  Cifras Definitivas      NaN  \n",
      "Municipal           0         0  Sólo daños  Cifras Definitivas      NaN  \n",
      "Municipal           0         0  Sólo daños  Cifras Definitivas      NaN  \n",
      "\n",
      "[5 rows x 45 columns]\n"
     ]
    }
   ],
   "source": [
    "datos2020 = pd.read_csv('./conjunto_de_datos/atus_anual_2020.csv')\n",
    "\n",
    "print(datos2020.head())"
   ]
  }
 ],
 "metadata": {
  "kaggle": {
   "accelerator": "none",
   "dataSources": [
    {
     "datasetId": 5813625,
     "sourceId": 9543095,
     "sourceType": "datasetVersion"
    }
   ],
   "dockerImageVersionId": 30775,
   "isGpuEnabled": false,
   "isInternetEnabled": false,
   "language": "python",
   "sourceType": "notebook"
  },
  "kernelspec": {
   "display_name": "Python 3",
   "language": "python",
   "name": "python3"
  },
  "language_info": {
   "codemirror_mode": {
    "name": "ipython",
    "version": 3
   },
   "file_extension": ".py",
   "mimetype": "text/x-python",
   "name": "python",
   "nbconvert_exporter": "python",
   "pygments_lexer": "ipython3",
   "version": "3.12.5"
  },
  "papermill": {
   "default_parameters": {},
   "duration": 4.567615,
   "end_time": "2024-10-04T01:38:08.174744",
   "environment_variables": {},
   "exception": null,
   "input_path": "__notebook__.ipynb",
   "output_path": "__notebook__.ipynb",
   "parameters": {},
   "start_time": "2024-10-04T01:38:03.607129",
   "version": "2.6.0"
  }
 },
 "nbformat": 4,
 "nbformat_minor": 5
}
