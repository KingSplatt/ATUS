{
 "cells": [
  {
   "cell_type": "code",
   "execution_count": 1,
   "id": "e87ed1ab",
   "metadata": {
    "_cell_guid": "b1076dfc-b9ad-4769-8c92-a6c4dae69d19",
    "_uuid": "8f2839f25d086af736a60e9eeb907d3b93b6e0e5",
    "execution": {
     "iopub.execute_input": "2024-10-04T01:31:38.620367Z",
     "iopub.status.busy": "2024-10-04T01:31:38.619028Z",
     "iopub.status.idle": "2024-10-04T01:31:39.711042Z",
     "shell.execute_reply": "2024-10-04T01:31:39.709789Z"
    },
    "papermill": {
     "duration": 1.099742,
     "end_time": "2024-10-04T01:31:39.713837",
     "exception": false,
     "start_time": "2024-10-04T01:31:38.614095",
     "status": "completed"
    },
    "tags": []
   },
   "outputs": [
    {
     "name": "stdout",
     "output_type": "stream",
     "text": [
      "/kaggle/input/atus-ejercicio/README.md\n",
      "/kaggle/input/atus-ejercicio/ejercicio-atus.ipynb\n",
      "/kaggle/input/atus-ejercicio/.gitattributes\n",
      "/kaggle/input/atus-ejercicio/conjunto_de_datos/atus_anual_2021.csv\n",
      "/kaggle/input/atus-ejercicio/conjunto_de_datos/atus_anual_2022.csv\n",
      "/kaggle/input/atus-ejercicio/conjunto_de_datos/atus_anual_2020.csv\n",
      "/kaggle/input/atus-ejercicio/conjunto_de_datos/atus_anual_2023.csv\n"
     ]
    }
   ],
   "source": [
    "# This Python 3 environment comes with many helpful analytics libraries installed\n",
    "# It is defined by the kaggle/python Docker image: https://github.com/kaggle/docker-python\n",
    "# For example, here's several helpful packages to load\n",
    "\n",
    "import numpy as np # linear algebra\n",
    "import pandas as pd # data processing, CSV file I/O (e.g. pd.read_csv)\n",
    "\n",
    "# Input data files are available in the read-only \"../input/\" directory\n",
    "# For example, running this (by clicking run or pressing Shift+Enter) will list all files under the input directory\n",
    "\n",
    "import os\n",
    "for dirname, _, filenames in os.walk('/kaggle/input'):\n",
    "    for filename in filenames:\n",
    "        print(os.path.join(dirname, filename))\n",
    "\n",
    "# You can write up to 20GB to the current directory (/kaggle/working/) that gets preserved as output when you create a version using \"Save & Run All\" \n",
    "# You can also write temporary files to /kaggle/temp/, but they won't be saved outside of the current session"
   ]
  },
  {
   "cell_type": "markdown",
   "id": "53b34072",
   "metadata": {
    "papermill": {
     "duration": 0.002044,
     "end_time": "2024-10-04T01:31:39.718541",
     "exception": false,
     "start_time": "2024-10-04T01:31:39.716497",
     "status": "completed"
    },
    "tags": []
   },
   "source": [
    "## Probaremos si funciona el dataset"
   ]
  },
  {
   "cell_type": "code",
   "execution_count": null,
   "id": "44dc8988",
   "metadata": {
    "papermill": {
     "duration": 0.001961,
     "end_time": "2024-10-04T01:31:39.722714",
     "exception": false,
     "start_time": "2024-10-04T01:31:39.720753",
     "status": "completed"
    },
    "tags": []
   },
   "outputs": [],
   "source": []
  }
 ],
 "metadata": {
  "kaggle": {
   "accelerator": "none",
   "dataSources": [
    {
     "datasetId": 5813625,
     "sourceId": 9543095,
     "sourceType": "datasetVersion"
    }
   ],
   "dockerImageVersionId": 30775,
   "isGpuEnabled": false,
   "isInternetEnabled": false,
   "language": "python",
   "sourceType": "notebook"
  },
  "kernelspec": {
   "display_name": "Python 3",
   "language": "python",
   "name": "python3"
  },
  "language_info": {
   "codemirror_mode": {
    "name": "ipython",
    "version": 3
   },
   "file_extension": ".py",
   "mimetype": "text/x-python",
   "name": "python",
   "nbconvert_exporter": "python",
   "pygments_lexer": "ipython3",
   "version": "3.10.14"
  },
  "papermill": {
   "default_parameters": {},
   "duration": 5.036442,
   "end_time": "2024-10-04T01:31:40.248148",
   "environment_variables": {},
   "exception": null,
   "input_path": "__notebook__.ipynb",
   "output_path": "__notebook__.ipynb",
   "parameters": {},
   "start_time": "2024-10-04T01:31:35.211706",
   "version": "2.6.0"
  }
 },
 "nbformat": 4,
 "nbformat_minor": 5
}
